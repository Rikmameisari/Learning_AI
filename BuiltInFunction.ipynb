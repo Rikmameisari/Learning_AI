num = [8, 5, 4, 3, 5, 9, 3, 1]

print('Type:', type(num))
print('Length:', len(num))
print('Min Value:', min(num))
print('Max Value:', max(num))
print('Sorted Lis:', sorted(num))
